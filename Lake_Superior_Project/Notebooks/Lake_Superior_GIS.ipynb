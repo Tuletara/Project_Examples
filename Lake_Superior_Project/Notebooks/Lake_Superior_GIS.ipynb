{
 "cells": [
  {
   "cell_type": "markdown",
   "metadata": {},
   "source": [
    "## Lake Superior Temperature Profiles - 2D & 3D\n",
    "\n",
    "This notebook brings in temperature data points over a small range of depth & area of Lake Superior. The data is interpolated into various 3D Empirical Bayesian Kriging (EBK) surface & 2D Contour shapefiles using ArcGIS Pro tools. "
   ]
  },
  {
   "cell_type": "code",
   "execution_count": 16,
   "metadata": {},
   "outputs": [],
   "source": [
    "# Import modules \n",
    "import arcpy\n",
    "import pandas as pd\n",
    "\n",
    "# Set the workspace environment to local file geodatabase\n",
    "arcpy.env.workspace = r'C:\\Users\\mmMary\\Documents\\Projects\\Superior_Surface_Temp'"
   ]
  },
  {
   "cell_type": "code",
   "execution_count": 30,
   "metadata": {},
   "outputs": [
    {
     "data": {
      "text/html": [
       "<div>\n",
       "<style scoped>\n",
       "    .dataframe tbody tr th:only-of-type {\n",
       "        vertical-align: middle;\n",
       "    }\n",
       "\n",
       "    .dataframe tbody tr th {\n",
       "        vertical-align: top;\n",
       "    }\n",
       "\n",
       "    .dataframe thead th {\n",
       "        text-align: right;\n",
       "    }\n",
       "</style>\n",
       "<table border=\"1\" class=\"dataframe\">\n",
       "  <thead>\n",
       "    <tr style=\"text-align: right;\">\n",
       "      <th></th>\n",
       "      <th>depth (m)</th>\n",
       "      <th>precise_lat (degree_north)</th>\n",
       "      <th>precise_lon (degree_east)</th>\n",
       "      <th>temperature (Celsius)</th>\n",
       "      <th>precise_time (UTC)</th>\n",
       "    </tr>\n",
       "  </thead>\n",
       "  <tbody>\n",
       "    <tr>\n",
       "      <th>0</th>\n",
       "      <td>-0.35</td>\n",
       "      <td>46.802483</td>\n",
       "      <td>-91.733625</td>\n",
       "      <td>9.23</td>\n",
       "      <td>2011-07-01T01:23:35Z</td>\n",
       "    </tr>\n",
       "    <tr>\n",
       "      <th>1</th>\n",
       "      <td>-0.27</td>\n",
       "      <td>46.802483</td>\n",
       "      <td>-91.733625</td>\n",
       "      <td>9.23</td>\n",
       "      <td>2011-07-01T01:23:37Z</td>\n",
       "    </tr>\n",
       "    <tr>\n",
       "      <th>2</th>\n",
       "      <td>-0.20</td>\n",
       "      <td>46.802483</td>\n",
       "      <td>-91.733625</td>\n",
       "      <td>9.23</td>\n",
       "      <td>2011-07-01T01:23:39Z</td>\n",
       "    </tr>\n",
       "    <tr>\n",
       "      <th>3</th>\n",
       "      <td>-0.15</td>\n",
       "      <td>46.802483</td>\n",
       "      <td>-91.733625</td>\n",
       "      <td>9.23</td>\n",
       "      <td>2011-07-01T01:23:42Z</td>\n",
       "    </tr>\n",
       "    <tr>\n",
       "      <th>4</th>\n",
       "      <td>-0.04</td>\n",
       "      <td>46.802483</td>\n",
       "      <td>-91.733625</td>\n",
       "      <td>9.23</td>\n",
       "      <td>2011-07-01T01:23:44Z</td>\n",
       "    </tr>\n",
       "    <tr>\n",
       "      <th>...</th>\n",
       "      <td>...</td>\n",
       "      <td>...</td>\n",
       "      <td>...</td>\n",
       "      <td>...</td>\n",
       "      <td>...</td>\n",
       "    </tr>\n",
       "    <tr>\n",
       "      <th>5593</th>\n",
       "      <td>1.50</td>\n",
       "      <td>46.859743</td>\n",
       "      <td>-91.770745</td>\n",
       "      <td>8.73</td>\n",
       "      <td>2011-07-01T08:31:01Z</td>\n",
       "    </tr>\n",
       "    <tr>\n",
       "      <th>5594</th>\n",
       "      <td>1.67</td>\n",
       "      <td>46.859746</td>\n",
       "      <td>-91.770743</td>\n",
       "      <td>8.72</td>\n",
       "      <td>2011-07-01T08:31:02Z</td>\n",
       "    </tr>\n",
       "    <tr>\n",
       "      <th>5595</th>\n",
       "      <td>1.84</td>\n",
       "      <td>46.859751</td>\n",
       "      <td>-91.770739</td>\n",
       "      <td>8.70</td>\n",
       "      <td>2011-07-01T08:31:04Z</td>\n",
       "    </tr>\n",
       "    <tr>\n",
       "      <th>5596</th>\n",
       "      <td>2.01</td>\n",
       "      <td>46.859756</td>\n",
       "      <td>-91.770736</td>\n",
       "      <td>8.69</td>\n",
       "      <td>2011-07-01T08:31:07Z</td>\n",
       "    </tr>\n",
       "    <tr>\n",
       "      <th>5597</th>\n",
       "      <td>2.17</td>\n",
       "      <td>46.859761</td>\n",
       "      <td>-91.770732</td>\n",
       "      <td>8.67</td>\n",
       "      <td>2011-07-01T08:31:09Z</td>\n",
       "    </tr>\n",
       "  </tbody>\n",
       "</table>\n",
       "<p>5598 rows × 5 columns</p>\n",
       "</div>"
      ],
      "text/plain": [
       "      depth (m)  ...    precise_time (UTC)\n",
       "0         -0.35  ...  2011-07-01T01:23:35Z\n",
       "1         -0.27  ...  2011-07-01T01:23:37Z\n",
       "2         -0.20  ...  2011-07-01T01:23:39Z\n",
       "3         -0.15  ...  2011-07-01T01:23:42Z\n",
       "4         -0.04  ...  2011-07-01T01:23:44Z\n",
       "...         ...  ...                   ...\n",
       "5593       1.50  ...  2011-07-01T08:31:01Z\n",
       "5594       1.67  ...  2011-07-01T08:31:02Z\n",
       "5595       1.84  ...  2011-07-01T08:31:04Z\n",
       "5596       2.01  ...  2011-07-01T08:31:07Z\n",
       "5597       2.17  ...  2011-07-01T08:31:09Z\n",
       "\n",
       "[5598 rows x 5 columns]"
      ]
     },
     "execution_count": 30,
     "metadata": {},
     "output_type": "execute_result"
    }
   ],
   "source": [
    "# Take a peek at csv table\n",
    "GG = (r'C:\\Users\\mmMary\\Documents\\Projects\\Superior_Surface_Temp\\Data\\Glider\\GG_11jul_1st.csv')\n",
    "df = pd.read_csv(GG)\n",
    "df"
   ]
  },
  {
   "cell_type": "markdown",
   "metadata": {},
   "source": [
    "### Convert table coordinates into map points & project into local coordinates"
   ]
  },
  {
   "cell_type": "code",
   "execution_count": 38,
   "metadata": {},
   "outputs": [
    {
     "data": {
      "text/html": [
       "<h2>Output</h2>C:\\Users\\mmMary\\Documents\\Projects\\Superior_Surface_Temp\\Superior_Surface_Temp_Map\\Superior_Surface_Temp_Map.gdb\\GG1_11jul_1st<h2>Messages</h2>Start Time: Tuesday, May 11, 2021 9:19:49 PM<br/>Succeeded at Tuesday, May 11, 2021 9:19:51 PM (Elapsed Time: 2.54 seconds)<br/><style>.rendered_html td, .rendered_html th {text-align: left;}.rendered_html tbody {border: 1px solid black;}</style>"
      ],
      "text/plain": [
       "<Result 'C:\\\\Users\\\\mmMary\\\\Documents\\\\Projects\\\\Superior_Surface_Temp\\\\Superior_Surface_Temp_Map\\\\Superior_Surface_Temp_Map.gdb\\\\GG1_11jul_1st'>"
      ]
     },
     "execution_count": 38,
     "metadata": {},
     "output_type": "execute_result"
    }
   ],
   "source": [
    "# Export csv table to points\n",
    "arcpy.management.XYTableToPoint(\"GG_11jul_1st.csv\", r\"C:\\Users\\mmMary\\Documents\\Projects\\Superior_Surface_Temp\\Superior_Surface_Temp_Map\\Superior_Surface_Temp_Map.gdb\\GG1_11jul_1st\", \"precise_lon (degree_east)\", \"precise_lat (degree_north)\", \"depth (m)\", \"GEOGCS['GCS_WGS_1984',DATUM['D_WGS_1984',SPHEROID['WGS_1984',6378137.0,298.257223563]],PRIMEM['Greenwich',0.0],UNIT['Degree',0.0174532925199433]],VERTCS['WGS_1984',DATUM['D_WGS_1984',SPHEROID['WGS_1984',6378137.0,298.257223563]],PARAMETER['Vertical_Shift',0.0],PARAMETER['Direction',1.0],UNIT['Meter',1.0]];-400 -400 1000000000;-100000 10000;-100000 10000;8.98315284119521E-09;0.001;0.001;IsHighPrecision\")"
   ]
  },
  {
   "cell_type": "code",
   "execution_count": 40,
   "metadata": {},
   "outputs": [
    {
     "data": {
      "text/html": [
       "<h2>Output</h2>C:\\Users\\mmMary\\Documents\\Projects\\Superior_Surface_Temp\\Superior_Surface_Temp_Map\\Superior_Surface_Temp_Map.gdb\\GGlider_Pts<h2>Messages</h2>Start Time: Tuesday, May 11, 2021 9:22:33 PM<br/>Succeeded at Tuesday, May 11, 2021 9:22:34 PM (Elapsed Time: 1.13 seconds)<br/><style>.rendered_html td, .rendered_html th {text-align: left;}.rendered_html tbody {border: 1px solid black;}</style>"
      ],
      "text/plain": [
       "<Result 'C:\\\\Users\\\\mmMary\\\\Documents\\\\Projects\\\\Superior_Surface_Temp\\\\Superior_Surface_Temp_Map\\\\Superior_Surface_Temp_Map.gdb\\\\GGlider_Pts'>"
      ]
     },
     "execution_count": 40,
     "metadata": {},
     "output_type": "execute_result"
    }
   ],
   "source": [
    "# Project new map points into UTM NAD 83 Zone 15\n",
    "arcpy.management.Project(\"GG1_11jul_1st\", r\"C:\\Users\\mmMary\\Documents\\Projects\\Superior_Surface_Temp\\Superior_Surface_Temp_Map\\Superior_Surface_Temp_Map.gdb\\GGlider_Pts\", \"PROJCS['NAD_1983_2011_UTM_Zone_15N',GEOGCS['GCS_NAD_1983_2011',DATUM['D_NAD_1983_2011',SPHEROID['GRS_1980',6378137.0,298.257222101]],PRIMEM['Greenwich',0.0],UNIT['Degree',0.0174532925199433]],PROJECTION['Transverse_Mercator'],PARAMETER['False_Easting',500000.0],PARAMETER['False_Northing',0.0],PARAMETER['Central_Meridian',-93.0],PARAMETER['Scale_Factor',0.9996],PARAMETER['Latitude_Of_Origin',0.0],UNIT['Meter',1.0]]\", \"WGS_1984_(ITRF08)_To_NAD_1983_2011\", \"GEOGCS['GCS_WGS_1984',DATUM['D_WGS_1984',SPHEROID['WGS_1984',6378137.0,298.257223563]],PRIMEM['Greenwich',0.0],UNIT['Degree',0.0174532925199433]],VERTCS['WGS_1984',DATUM['D_WGS_1984',SPHEROID['WGS_1984',6378137.0,298.257223563]],PARAMETER['Vertical_Shift',0.0],PARAMETER['Direction',1.0],UNIT['Meter',1.0]]\", \"NO_PRESERVE_SHAPE\", None, \"NO_VERTICAL\")"
   ]
  },
  {
   "cell_type": "markdown",
   "metadata": {},
   "source": [
    "### Create 3D Empircal Baysien Kriging surface\n",
    "\n",
    "This creates a predictive interpolation surface of temperatures through the water column. EBK has several options for surface type, transformation, semivariogram type and more. A few select interations are shown here but the best parameters will depend on the specific data. "
   ]
  },
  {
   "cell_type": "code",
   "execution_count": null,
   "metadata": {},
   "outputs": [],
   "source": [
    "# esri defaults of no transformation, Exponential semivariogram\n",
    "arcpy.ga.EmpiricalBayesianKriging3D(\"GG_11jul_1st\", \"z\", \"temperature__Celsius_\", \"EBK\", \"METER\", None, \"EXPONENTIAL\", \"NONE\", 100, 1, 100, \"NONE\", None, \"NBRTYPE=Standard3D RADIUS=nan NBR_MAX=2 NBR_MIN=1 SECTOR_TYPE=TWELVE_SECTORS\", None, \"PREDICTION\", 0.5, \"EXCEED\", None)"
   ]
  },
  {
   "cell_type": "code",
   "execution_count": null,
   "metadata": {},
   "outputs": [],
   "source": [
    "# Exponential semivariogram with Log Empirical transformation\n",
    "arcpy.ga.EmpiricalBayesianKriging3D(\"GG_11jul_1st\", \"z\", \"temperature__Celsius_\", \"EBK_Expon_Log\", \"METER\", None, \"EXPONENTIAL\", \"LOGEMPIRICAL\", 100, 1, 100, \"NONE\", None, \"NBRTYPE=Standard3D RADIUS=nan NBR_MAX=2 NBR_MIN=1 SECTOR_TYPE=TWELVE_SECTORS\", None, \"PREDICTION\", 0.5, \"EXCEED\", None)"
   ]
  },
  {
   "cell_type": "code",
   "execution_count": null,
   "metadata": {},
   "outputs": [],
   "source": [
    "# Power Semivariogram with no transformation\n",
    "arcpy.ga.EmpiricalBayesianKriging3D(\"GG_11jul_1st\", \"z\", \"temperature__Celsius_\", \"EBK_Power\", \"METER\", None, \"POWER\", \"NONE\", 100, 1, 100, \"NONE\", None, \"NBRTYPE=Standard3D RADIUS=nan NBR_MAX=2 NBR_MIN=1 SECTOR_TYPE=TWELVE_SECTORS\", None, \"PREDICTION\", 0.5, \"EXCEED\", None)"
   ]
  },
  {
   "cell_type": "markdown",
   "metadata": {},
   "source": [
    "### Export EBK Results\n",
    "This is a simple visualization of the variable at a specified depth as either contour\n",
    "lines or filled polygons. This can also be done in Batch mode."
   ]
  },
  {
   "cell_type": "code",
   "execution_count": 1,
   "metadata": {},
   "outputs": [
    {
     "data": {
      "text/html": [
       "<h2>Output</h2>C:\\Users\\mmMary\\Documents\\Projects\\ebk_power.shp<h2>Messages</h2>Start Time: Tuesday, May 11, 2021 10:13:11 PM<br/>Succeeded at Tuesday, May 11, 2021 10:13:11 PM (Elapsed Time: 0.24 seconds)<br/><style>.rendered_html td, .rendered_html th {text-align: left;}.rendered_html tbody {border: 1px solid black;}</style>"
      ],
      "text/plain": [
       "<Result 'C:\\\\Users\\\\mmMary\\\\Documents\\\\Projects\\\\ebk_power.shp'>"
      ]
     },
     "execution_count": 1,
     "metadata": {},
     "output_type": "execute_result"
    }
   ],
   "source": [
    "# Export shp of filled polygons as a static layer at a given depth\n",
    "arcpy.ga.GALayerToContour(\"EBK_Power\", \"SAME_AS_LAYER\", r\"C:\\Users\\mmMary\\Documents\\Projects\\ebk_power.shp\", \"DRAFT\", \"GEOMETRIC_INTERVAL\", 10, [], None)"
   ]
  },
  {
   "cell_type": "code",
   "execution_count": 2,
   "metadata": {},
   "outputs": [
    {
     "data": {
      "text/html": [
       "<h2>Output</h2>C:\\Users\\mmMary\\Documents\\Projects\\contour2_17.shp<h2>Messages</h2>Start Time: Tuesday, May 11, 2021 10:27:02 PM<br/>Succeeded at Tuesday, May 11, 2021 10:27:02 PM (Elapsed Time: 0.13 seconds)<br/><style>.rendered_html td, .rendered_html th {text-align: left;}.rendered_html tbody {border: 1px solid black;}</style>"
      ],
      "text/plain": [
       "<Result 'C:\\\\Users\\\\mmMary\\\\Documents\\\\Projects\\\\contour2_17.shp'>"
      ]
     },
     "execution_count": 2,
     "metadata": {},
     "output_type": "execute_result"
    }
   ],
   "source": [
    "# Export static shp of contour lines indicating temp at 2.17 meters\n",
    "arcpy.ga.GALayerToContour(\"EBK_Power\", \"CONTOUR\", r\"C:\\Users\\mmMary\\Documents\\Projects\\contour2_17.shp\", \"DRAFT\", \"GEOMETRIC_INTERVAL\", 10, [], \"2.17 Meters\")"
   ]
  }
 ],
 "metadata": {
  "kernelspec": {
   "display_name": "Python 3",
   "language": "python",
   "name": "python3"
  },
  "language_info": {
   "codemirror_mode": {
    "name": "ipython",
    "version": 3
   },
   "file_extension": ".py",
   "mimetype": "text/x-python",
   "name": "python",
   "nbconvert_exporter": "python",
   "pygments_lexer": "ipython3",
   "version": "3.6.10"
  }
 },
 "nbformat": 4,
 "nbformat_minor": 2
}
